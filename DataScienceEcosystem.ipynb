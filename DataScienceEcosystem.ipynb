{
 "cells": [
  {
   "cell_type": "markdown",
   "id": "5b5bcccb",
   "metadata": {},
   "source": [
    "**Data Science Tools and Ecosystem**"
   ]
  },
  {
   "cell_type": "markdown",
   "id": "17b209af",
   "metadata": {},
   "source": [
    "  In this notebook, Data Science Tools and Ecosystem are summarized .\n",
    " \n",
    " **Objectives :**\n",
    " \n",
    "     .Create a markdown cell to list data science libraries;\n",
    " \n",
    "     .Create a markdown cell with a table of Data Science tools;\n",
    " \n",
    "     .Create a code cell to multiply and add numbers;\n",
    " \n",
    "     .Create a code cell to convert minutes to hours.\n",
    "  \n",
    "  \n",
    "\n",
    "\n",
    "\n",
    "Some of the popular languages that Data Scientists use are:\n",
    " -Python\n",
    " -SQL\n",
    " -R\n",
    " \n",
    " Some of the commonly used libraries used by Data Scientists include:\n",
    " -Pandas\n",
    " -Scikit-learn\n",
    " -keras\n",
    " -PyTorch...\n",
    " \n",
    " \n",
    " "
   ]
  },
  {
   "cell_type": "markdown",
   "id": "c1a1a4bc",
   "metadata": {},
   "source": [
    " | Data Science Tools |\n",
    " |--------------------|\n",
    " | MySQL |\n",
    " | RStudio |\n",
    " |Jupyter|\n"
   ]
  },
  {
   "cell_type": "markdown",
   "id": "6b33c1fc",
   "metadata": {},
   "source": [
    "**Below are a few examples of evaluating arithmetic expressions in Python**\n"
   ]
  },
  {
   "cell_type": "code",
   "execution_count": 5,
   "id": "33564bf2",
   "metadata": {},
   "outputs": [
    {
     "data": {
      "text/plain": [
       "17"
      ]
     },
     "execution_count": 5,
     "metadata": {},
     "output_type": "execute_result"
    }
   ],
   "source": [
    " #This a simple arithmetic expression to mutiply then add integers\n",
    "(3*4)+5\n"
   ]
  },
  {
   "cell_type": "code",
   "execution_count": 6,
   "id": "6f17f56b",
   "metadata": {},
   "outputs": [
    {
     "data": {
      "text/plain": [
       "3.3333333333333335"
      ]
     },
     "execution_count": 6,
     "metadata": {},
     "output_type": "execute_result"
    }
   ],
   "source": [
    " #This will convert 200 minutes to hours by diving by 60\n",
    " 200/60"
   ]
  },
  {
   "cell_type": "markdown",
   "id": "3098c449",
   "metadata": {},
   "source": [
    "**AUTHOR: DRISS AHARHAR**"
   ]
  },
  {
   "cell_type": "code",
   "execution_count": null,
   "id": "1c8e8874",
   "metadata": {},
   "outputs": [],
   "source": []
  }
 ],
 "metadata": {
  "kernelspec": {
   "display_name": "Python 3 (ipykernel)",
   "language": "python",
   "name": "python3"
  },
  "language_info": {
   "codemirror_mode": {
    "name": "ipython",
    "version": 3
   },
   "file_extension": ".py",
   "mimetype": "text/x-python",
   "name": "python",
   "nbconvert_exporter": "python",
   "pygments_lexer": "ipython3",
   "version": "3.11.3"
  }
 },
 "nbformat": 4,
 "nbformat_minor": 5
}
